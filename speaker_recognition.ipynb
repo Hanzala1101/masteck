{
  "cells": [
    {
      "cell_type": "markdown",
      "metadata": {
        "id": "view-in-github",
        "colab_type": "text"
      },
      "source": [
        "<a href=\"https://colab.research.google.com/github/Hanzala1101/masteck/blob/colab/speaker_recognition.ipynb\" target=\"_parent\"><img src=\"https://colab.research.google.com/assets/colab-badge.svg\" alt=\"Open In Colab\"/></a>"
      ]
    },
    {
      "cell_type": "markdown",
      "metadata": {
        "id": "OOIjSWII7pHF"
      },
      "source": [
        "# Speaker Recognition\n",
        "\n",
        "Term project for Machine Learning UoT course\n",
        "\n",
        "The objective of this Notebook is to predict the speaker of an English digit using a Keras model.\n",
        "\n",
        "This Notebook has three main sections.\n",
        "1. Extract the features of the WAV files, save them into CSV files and store them into Pandas\n",
        "2. The model will be trained based on the data set created by https://github.com/Jakobovski/free-spoken-digit-dataset\n",
        "3. The model will be re-trained based on the previous data plus the recordings made by Ankor (Indian accent), Caroline (Canadian female child accent) and Rodolfo (Brazilian accent)"
      ]
    },
    {
      "cell_type": "code",
      "execution_count": null,
      "metadata": {
        "colab": {
          "base_uri": "https://localhost:8080/"
        },
        "id": "M3da1GRx7pHO",
        "outputId": "354f6c75-92ec-4329-de52-e8c7195a5d13"
      },
      "outputs": [
        {
          "output_type": "stream",
          "name": "stdout",
          "text": [
            "[Errno 2] No such file or directory: 'drive/'\n",
            "/content\n"
          ]
        }
      ],
      "source": [
        "cd drive/"
      ]
    },
    {
      "cell_type": "code",
      "source": [
        "ls"
      ],
      "metadata": {
        "colab": {
          "base_uri": "https://localhost:8080/"
        },
        "id": "SVUERY8e8Ue3",
        "outputId": "1c273da7-51b7-40de-d1f8-79b228704c22"
      },
      "execution_count": null,
      "outputs": [
        {
          "output_type": "stream",
          "name": "stdout",
          "text": [
            "\u001b[0m\u001b[01;34mdrive\u001b[0m/  \u001b[01;34msample_data\u001b[0m/  train.csv\n"
          ]
        }
      ]
    },
    {
      "cell_type": "code",
      "source": [
        "from google.colab import drive\n",
        "drive.mount('/content/drive')"
      ],
      "metadata": {
        "colab": {
          "base_uri": "https://localhost:8080/"
        },
        "id": "mX2DOa7c7zYs",
        "outputId": "7df89a07-86e0-4f73-ac3f-33fdb1f2751d"
      },
      "execution_count": null,
      "outputs": [
        {
          "output_type": "stream",
          "name": "stdout",
          "text": [
            "Mounted at /content/drive\n"
          ]
        }
      ]
    },
    {
      "cell_type": "markdown",
      "metadata": {
        "id": "_YENlIAl7pHP"
      },
      "source": [
        "## Section 1\n",
        "\n",
        "The output of this section is the CSV files with the data to be handle by the model\n",
        "\n",
        "```\n",
        "trainData     : ./drive/MyDrive/masteck/train \n",
        "testData      : ./drive/MyDrive/masteck/test\n",
        "moreTrainData : ./drive/MyDrive/masteck/morespeakertrain\n",
        "moreTestData  : ./drive/MyDrive/masteck/morespeakertest\n",
        "```\n"
      ]
    },
    {
      "cell_type": "code",
      "execution_count": null,
      "metadata": {
        "id": "mvDejb3B7pHQ"
      },
      "outputs": [],
      "source": [
        "# If true, the WAV files will be read and their features will be saved in the CSV files\n",
        "# As this is the most time consuming task, only enable it if you don't have the CSV files yet\n",
        "CREATE_CSV_FILES = True"
      ]
    },
    {
      "cell_type": "code",
      "execution_count": null,
      "metadata": {
        "id": "k02oXHOO7pHS"
      },
      "outputs": [],
      "source": [
        "# Defines the names of the CSV files\n",
        "TRAIN_CSV_FILE = \"train.csv\"\n",
        "TEST_CSV_FILE = \"test.csv\"\n",
        "MORE_TRAIN_CSV_FILE = \"more_train.csv\"\n",
        "MORE_TEST_CSV_FILE = \"more_test.csv\"\n"
      ]
    },
    {
      "cell_type": "code",
      "execution_count": null,
      "metadata": {
        "colab": {
          "base_uri": "https://localhost:8080/"
        },
        "id": "FIUhv3GI8FOF",
        "outputId": "aa3ddd8b-df6b-4cca-8cad-0e661e93e5b8"
      },
      "outputs": [
        {
          "output_type": "stream",
          "name": "stdout",
          "text": [
            "The features of the files in the folder drive/MyDrive/masteck/train will be saved to train.csv\n",
            "CSV Header:  ['filename', 'chroma_stft', 'rmse', 'spectral_centroid', 'spectral_bandwidth', 'rolloff', 'zero_crossing_rate', 'mfcc1', 'mfcc2', 'mfcc3', 'mfcc4', 'mfcc5', 'mfcc6', 'mfcc7', 'mfcc8', 'mfcc9', 'mfcc10', 'mfcc11', 'mfcc12', 'mfcc13', 'mfcc14', 'mfcc15', 'mfcc16', 'mfcc17', 'mfcc18', 'mfcc19', 'mfcc20', 'label']\n",
            "End of extractWavFeatures\n",
            "The features of the files in the folder drive/MyDrive/masteck/test will be saved to test.csv\n",
            "CSV Header:  ['filename', 'chroma_stft', 'rmse', 'spectral_centroid', 'spectral_bandwidth', 'rolloff', 'zero_crossing_rate', 'mfcc1', 'mfcc2', 'mfcc3', 'mfcc4', 'mfcc5', 'mfcc6', 'mfcc7', 'mfcc8', 'mfcc9', 'mfcc10', 'mfcc11', 'mfcc12', 'mfcc13', 'mfcc14', 'mfcc15', 'mfcc16', 'mfcc17', 'mfcc18', 'mfcc19', 'mfcc20', 'label']\n",
            "End of extractWavFeatures\n",
            "The features of the files in the folder drive/MyDrive/masteck/morespeakertrain will be saved to more_train.csv\n",
            "CSV Header:  ['filename', 'chroma_stft', 'rmse', 'spectral_centroid', 'spectral_bandwidth', 'rolloff', 'zero_crossing_rate', 'mfcc1', 'mfcc2', 'mfcc3', 'mfcc4', 'mfcc5', 'mfcc6', 'mfcc7', 'mfcc8', 'mfcc9', 'mfcc10', 'mfcc11', 'mfcc12', 'mfcc13', 'mfcc14', 'mfcc15', 'mfcc16', 'mfcc17', 'mfcc18', 'mfcc19', 'mfcc20', 'label']\n",
            "End of extractWavFeatures\n",
            "The features of the files in the folder drive/MyDrive/masteck/morespeakertest will be saved to more_test.csv\n",
            "CSV Header:  ['filename', 'chroma_stft', 'rmse', 'spectral_centroid', 'spectral_bandwidth', 'rolloff', 'zero_crossing_rate', 'mfcc1', 'mfcc2', 'mfcc3', 'mfcc4', 'mfcc5', 'mfcc6', 'mfcc7', 'mfcc8', 'mfcc9', 'mfcc10', 'mfcc11', 'mfcc12', 'mfcc13', 'mfcc14', 'mfcc15', 'mfcc16', 'mfcc17', 'mfcc18', 'mfcc19', 'mfcc20', 'label']\n",
            "End of extractWavFeatures\n",
            "CSV files are created\n"
          ]
        }
      ],
      "source": [
        "import matplotlib.pyplot as plt\n",
        "import numpy as np\n",
        "from matplotlib import cm\n",
        "import librosa\n",
        "import csv\n",
        "import os\n",
        "\n",
        "def extractWavFeatures(soundFilesFolder, csvFileName):\n",
        "    print(\"The features of the files in the folder \"+soundFilesFolder+\" will be saved to \"+csvFileName)\n",
        "    header = 'filename chroma_stft rmse spectral_centroid spectral_bandwidth rolloff zero_crossing_rate'\n",
        "    for i in range(1, 21):\n",
        "        header += f' mfcc{i}'\n",
        "    header += ' label'\n",
        "    header = header.split()\n",
        "    print('CSV Header: ', header)\n",
        "    file = open(csvFileName, 'w', newline='')\n",
        "    #with file:\n",
        "    writer = csv.writer(file)\n",
        "    writer.writerow(header)\n",
        "    genres = '1 2 3 4 5 6 7 8 9 0'.split()\n",
        "    for filename in os.listdir(soundFilesFolder):\n",
        "        number = f'{soundFilesFolder}/{filename}'\n",
        "        y, sr = librosa.load(number, mono=True, duration=30)\n",
        "        # remove leading and trailing silence\n",
        "        y, index = librosa.effects.trim(y)\n",
        "        chroma_stft = librosa.feature.chroma_stft(y=y, sr=sr)\n",
        "        rmse = librosa.feature.rms(y=y)\n",
        "        spec_cent = librosa.feature.spectral_centroid(y=y, sr=sr)\n",
        "        spec_bw = librosa.feature.spectral_bandwidth(y=y, sr=sr)\n",
        "        rolloff = librosa.feature.spectral_rolloff(y=y, sr=sr)\n",
        "        zcr = librosa.feature.zero_crossing_rate(y)\n",
        "        mfcc = librosa.feature.mfcc(y=y, sr=sr)\n",
        "        to_append = f'{filename} {np.mean(chroma_stft)} {np.mean(rmse)} {np.mean(spec_cent)} {np.mean(spec_bw)} {np.mean(rolloff)} {np.mean(zcr)}'\n",
        "        for e in mfcc:\n",
        "            to_append += f' {np.mean(e)}'\n",
        "        writer.writerow(to_append.split())\n",
        "    file.close()\n",
        "    print(\"End of extractWavFeatures\")\n",
        "\n",
        "if (CREATE_CSV_FILES == True):\n",
        "    extractWavFeatures(\"drive/MyDrive/masteck/train\", TRAIN_CSV_FILE)\n",
        "    extractWavFeatures(\"drive/MyDrive/masteck/test\", TEST_CSV_FILE)\n",
        "    extractWavFeatures(\"drive/MyDrive/masteck/morespeakertrain\", MORE_TRAIN_CSV_FILE)\n",
        "    extractWavFeatures(\"drive/MyDrive/masteck/morespeakertest\", MORE_TEST_CSV_FILE)\n",
        "    print(\"CSV files are created\")\n",
        "else:\n",
        "    print(\"CSV files creation is skipped\")"
      ]
    },
    {
      "cell_type": "code",
      "execution_count": null,
      "metadata": {
        "colab": {
          "base_uri": "https://localhost:8080/"
        },
        "id": "_TZXrWYiNqCj",
        "outputId": "bf2ced81-8733-47c1-e8b3-3d6d24a5e964"
      },
      "outputs": [
        {
          "output_type": "stream",
          "name": "stdout",
          "text": [
            "train.csv will be preprocessed\n",
            "Preprocessing is finished\n",
            "       rmse  spectral_centroid  spectral_bandwidth      rolloff  \\\n",
            "0  0.058545        1654.527467         1654.123721  3107.479556   \n",
            "1  0.041905        1630.322133         1638.303531  3022.511686   \n",
            "2  0.033386        1535.227515         1625.786775  2873.553535   \n",
            "3  0.028456        1458.082340         1576.297758  2746.410858   \n",
            "4  0.020487        1841.398900         1877.986716  3486.846581   \n",
            "\n",
            "   zero_crossing_rate       mfcc1       mfcc2      mfcc3      mfcc4  \\\n",
            "0            0.080926 -258.568237  121.092766 -42.703541  12.638338   \n",
            "1            0.076441 -294.693604  123.547668 -38.310944  12.168838   \n",
            "2            0.072235 -319.252991  133.680038 -35.367195  12.306456   \n",
            "3            0.065836 -338.208801  139.903946 -31.733427  16.713984   \n",
            "4            0.080190 -385.420197  113.033714 -21.084585  16.589327   \n",
            "\n",
            "       mfcc5  ...     mfcc12    mfcc13     mfcc14    mfcc15     mfcc16  \\\n",
            "0 -22.529150  ... -16.153675 -3.196240 -17.171938 -3.022348  -5.492188   \n",
            "1 -19.410997  ... -11.471847 -3.752769 -20.669888 -0.026704  -5.074851   \n",
            "2 -21.404526  ...  -9.128390 -4.146363 -14.234540  2.590549 -11.308612   \n",
            "3 -13.657501  ...  -9.345135 -3.179195 -15.894312 -0.687707  -7.617130   \n",
            "4  -9.822134  ...  -9.169391 -7.711004 -12.117277 -0.482968  -7.849907   \n",
            "\n",
            "      mfcc17    mfcc18    mfcc19     mfcc20  number  \n",
            "0 -20.428062 -2.451528 -3.262778 -14.935703       1  \n",
            "1 -20.112326 -4.261187 -7.113878 -11.075822       1  \n",
            "2 -17.027172 -1.496903 -8.342388 -11.488186       1  \n",
            "3 -15.522485 -3.422223 -7.619764 -11.894439       1  \n",
            "4 -12.655374 -4.553013 -6.672001 -10.171249       1  \n",
            "\n",
            "[5 rows x 26 columns]\n",
            "test.csv will be preprocessed\n",
            "Preprocessing is finished\n",
            "       rmse  spectral_centroid  spectral_bandwidth      rolloff  \\\n",
            "0  0.019654        1710.139258         1822.800774  3335.710916   \n",
            "1  0.045448        1759.997088         2150.259950  3363.081346   \n",
            "2  0.138387        1544.681008         1638.207280  2981.323242   \n",
            "3  0.078668        1444.219312         1614.670580  2683.004483   \n",
            "4  0.055797        1533.176987         1709.870876  2987.043577   \n",
            "\n",
            "   zero_crossing_rate       mfcc1       mfcc2      mfcc3      mfcc4  \\\n",
            "0            0.071399 -384.649231  119.242363 -27.797022  20.030291   \n",
            "1            0.072633 -296.490479  115.422867  14.477064  18.342756   \n",
            "2            0.072084 -160.703476  143.047440 -31.233402  34.704563   \n",
            "3            0.067543 -268.916595  139.963043 -15.641768  13.288085   \n",
            "4            0.074822 -326.503265  131.568604  -7.577425  43.513000   \n",
            "\n",
            "       mfcc5  ...     mfcc12     mfcc13     mfcc14    mfcc15     mfcc16  \\\n",
            "0 -12.054730  ...  -7.691782 -13.123662 -15.621081  3.251202 -13.630426   \n",
            "1   8.169387  ...   4.296399  -8.530155   0.217611 -3.765116  -6.004663   \n",
            "2 -18.087790  ... -10.185452   1.420503 -10.665130  5.010467  -9.936727   \n",
            "3 -28.437813  ... -10.268328  -9.782737  -9.005266 -2.456784 -10.191990   \n",
            "4  27.275877  ...  -1.592717  -5.829073 -10.949206 -1.132108  -3.593167   \n",
            "\n",
            "      mfcc17    mfcc18     mfcc19    mfcc20  number  \n",
            "0 -11.940178 -4.676376  -9.223245 -7.054220       1  \n",
            "1  -3.518522  1.262132  -7.438161  0.839997      10  \n",
            "2  -5.318706 -4.716352  -5.096690 -3.048000       7  \n",
            "3 -16.862017 -2.887929 -13.185269 -9.578375      11  \n",
            "4 -10.690710 -3.112891  -2.451392 -7.556443       4  \n",
            "\n",
            "[5 rows x 26 columns]\n",
            "more_train.csv will be preprocessed\n",
            "Preprocessing is finished\n",
            "       rmse  spectral_centroid  spectral_bandwidth      rolloff  \\\n",
            "0  0.067374        1488.832688         1593.472315  2686.107190   \n",
            "1  0.081894        1308.379647         1511.866394  2368.918844   \n",
            "2  0.063582        1471.576046         1685.955176  2875.801917   \n",
            "3  0.071275        1396.842109         1520.546240  2568.527373   \n",
            "4  0.056446        1692.847543         1792.196843  3252.419772   \n",
            "\n",
            "   zero_crossing_rate       mfcc1       mfcc2      mfcc3      mfcc4  \\\n",
            "0            0.090961 -315.085083  138.728271  16.788658   4.265003   \n",
            "1            0.068355 -317.513184  139.074554  11.301347  20.111542   \n",
            "2            0.071429 -332.284088  127.330795  17.243196  30.841303   \n",
            "3            0.076138 -306.795410  140.213989   9.054791  11.029481   \n",
            "4            0.085067 -341.508148  120.170601  15.333003  17.094690   \n",
            "\n",
            "       mfcc5  ...    mfcc12    mfcc13    mfcc14    mfcc15    mfcc16    mfcc17  \\\n",
            "0 -20.185003  ...  2.086765 -2.896664 -6.971049 -0.924450 -4.682269 -7.865504   \n",
            "1 -15.635326  ...  1.243719 -2.643452 -8.121713  0.561283 -4.934356 -4.994251   \n",
            "2 -16.680376  ...  6.302554 -6.397825 -7.220170  4.336430 -8.044552 -7.103934   \n",
            "3 -19.459173  ...  5.488714 -0.454408 -4.717101 -1.592766 -7.019938 -7.086703   \n",
            "4 -13.753793  ...  1.159947 -4.523805 -6.432992  1.226745 -4.836429 -5.560976   \n",
            "\n",
            "     mfcc18     mfcc19    mfcc20  number  \n",
            "0  2.121432  -3.172832 -3.331244       8  \n",
            "1  2.488664  -8.795761 -3.497941       8  \n",
            "2  4.638587 -11.413736 -3.983309       8  \n",
            "3  2.959192  -6.677656 -4.060482       8  \n",
            "4  6.205396  -4.265518 -4.122960       8  \n",
            "\n",
            "[5 rows x 26 columns]\n",
            "more_test.csv will be preprocessed\n",
            "Preprocessing is finished\n",
            "       rmse  spectral_centroid  spectral_bandwidth      rolloff  \\\n",
            "0  0.019654        1710.139258         1822.800774  3335.710916   \n",
            "1  0.045448        1759.997088         2150.259950  3363.081346   \n",
            "2  0.138387        1544.681008         1638.207280  2981.323242   \n",
            "3  0.078668        1444.219312         1614.670580  2683.004483   \n",
            "4  0.055797        1533.176987         1709.870876  2987.043577   \n",
            "\n",
            "   zero_crossing_rate       mfcc1       mfcc2      mfcc3      mfcc4  \\\n",
            "0            0.071399 -384.649231  119.242363 -27.797022  20.030291   \n",
            "1            0.072633 -296.490479  115.422867  14.477064  18.342756   \n",
            "2            0.072084 -160.703476  143.047440 -31.233402  34.704563   \n",
            "3            0.067543 -268.916595  139.963043 -15.641768  13.288085   \n",
            "4            0.074822 -326.503265  131.568604  -7.577425  43.513000   \n",
            "\n",
            "       mfcc5  ...     mfcc12     mfcc13     mfcc14    mfcc15     mfcc16  \\\n",
            "0 -12.054730  ...  -7.691782 -13.123662 -15.621081  3.251202 -13.630426   \n",
            "1   8.169387  ...   4.296399  -8.530155   0.217611 -3.765116  -6.004663   \n",
            "2 -18.087790  ... -10.185452   1.420503 -10.665130  5.010467  -9.936727   \n",
            "3 -28.437813  ... -10.268328  -9.782737  -9.005266 -2.456784 -10.191990   \n",
            "4  27.275877  ...  -1.592717  -5.829073 -10.949206 -1.132108  -3.593167   \n",
            "\n",
            "      mfcc17    mfcc18     mfcc19    mfcc20  number  \n",
            "0 -11.940178 -4.676376  -9.223245 -7.054220       1  \n",
            "1  -3.518522  1.262132  -7.438161  0.839997      10  \n",
            "2  -5.318706 -4.716352  -5.096690 -3.048000       7  \n",
            "3 -16.862017 -2.887929 -13.185269 -9.578375      11  \n",
            "4 -10.690710 -3.112891  -2.451392 -7.556443       4  \n",
            "\n",
            "[5 rows x 26 columns]\n"
          ]
        }
      ],
      "source": [
        "#Reading a dataset and convert file name to corresbonding umnber\n",
        "\n",
        "import pandas as pd\n",
        "import csv\n",
        "from sklearn import preprocessing\n",
        "\n",
        "def preProcessData(csvFileName):\n",
        "    print(csvFileName+ \" will be preprocessed\")\n",
        "    data = pd.read_csv(csvFileName)\n",
        "    # we have six speakers: \n",
        "    # 0: kunal      un\n",
        "    # 1: aman       ma\n",
        "    # 2: techwith tim im\n",
        "    # 3: thapa     ha\n",
        "    # 4: codepur    od\n",
        "    # 5: shradha    hr\n",
        "    # 6: techchip   ec\n",
        "    # 7: 5_min_engg _m\n",
        "    # 8: durgesh    ur\n",
        "    # 9: cwh        wh\n",
        "    # 2: anuj       nu\n",
        "    # 7: krish_niak ri\n",
        "    \n",
        "    filenameArray = data['filename'] \n",
        "    speakerArray = []\n",
        "    #print(filenameArray)\n",
        "    for i in range(len(filenameArray)):\n",
        "        speaker = filenameArray[i][1:3]\n",
        "        # print(speaker)\n",
        "        if speaker == \"un\":\n",
        "            speaker = 0\n",
        "        elif speaker == \"ma\":\n",
        "            speaker = 1\n",
        "        elif speaker == \"im\":\n",
        "            speaker = 2\n",
        "        elif speaker == \"ha\":\n",
        "            speaker = 3\n",
        "        elif speaker == \"od\":\n",
        "            speaker = 4\n",
        "        elif speaker == \"hr\":\n",
        "            speaker = 5\n",
        "        elif speaker == \"ec\":\n",
        "            speaker = 6\n",
        "        elif speaker == \"_m\":\n",
        "            speaker = 7\n",
        "        elif speaker == \"ur\":\n",
        "            speaker = 8\n",
        "        elif speaker == \"ri\":\n",
        "            speaker = 9\n",
        "        elif speaker == \"wh\":\n",
        "            speaker = 10\n",
        "        elif speaker == \"nu\":\n",
        "            speaker = 11\n",
        "        else: \n",
        "            speaker = 12\n",
        "        # print(speaker)\n",
        "        speakerArray.append(speaker)\n",
        "    data['number'] = speakerArray\n",
        "    #Dropping unnecessary columns\n",
        "    data = data.drop(['filename'],axis=1)\n",
        "    data = data.drop(['label'],axis=1)\n",
        "    data = data.drop(['chroma_stft'],axis=1)\n",
        "    data.shape\n",
        "\n",
        "    print(\"Preprocessing is finished\")\n",
        "    print(data.head())\n",
        "    return data\n",
        "\n",
        "trainData = preProcessData(TRAIN_CSV_FILE)\n",
        "testData = preProcessData(TEST_CSV_FILE)\n",
        "moreTrainData = preProcessData(MORE_TRAIN_CSV_FILE)\n",
        "moreTestData = preProcessData(MORE_TEST_CSV_FILE)\n",
        "\n",
        "# print(moreTestData)\n"
      ]
    },
    {
      "cell_type": "markdown",
      "metadata": {
        "id": "GPbfaLTrap87"
      },
      "source": []
    },
    {
      "cell_type": "markdown",
      "metadata": {
        "id": "CKyAyZMm7pHZ"
      },
      "source": [
        "## Section 2\n",
        "\n",
        "There are 50 recordings for each digit for each speaker: Jackson, Nicolas and Theo (total 1500 recordings)\n",
        "\n",
        "Training data has 49 recordings for each digit for each speaker: 1470 recordings total.\n",
        "Test data has 1 recordings for each digit for each speaker: 30 recordings total.\n",
        "\n",
        "The data used here comes from the recordings stored in:\n",
        "* ./drive/mydrive/masteck/train\n",
        "* ./drive/mydrive/masteck/test\n",
        "\n",
        "The model will be trained to predict the speker of a digit."
      ]
    },
    {
      "cell_type": "code",
      "source": [
        "trainData.dtypes"
      ],
      "metadata": {
        "colab": {
          "base_uri": "https://localhost:8080/"
        },
        "id": "B1KmlV2cQ7ZR",
        "outputId": "4a216f31-f079-4ca3-e4cf-46c16d1ae67d"
      },
      "execution_count": null,
      "outputs": [
        {
          "output_type": "execute_result",
          "data": {
            "text/plain": [
              "rmse                  float64\n",
              "spectral_centroid     float64\n",
              "spectral_bandwidth    float64\n",
              "rolloff               float64\n",
              "zero_crossing_rate    float64\n",
              "mfcc1                 float64\n",
              "mfcc2                 float64\n",
              "mfcc3                 float64\n",
              "mfcc4                 float64\n",
              "mfcc5                 float64\n",
              "mfcc6                 float64\n",
              "mfcc7                 float64\n",
              "mfcc8                 float64\n",
              "mfcc9                 float64\n",
              "mfcc10                float64\n",
              "mfcc11                float64\n",
              "mfcc12                float64\n",
              "mfcc13                float64\n",
              "mfcc14                float64\n",
              "mfcc15                float64\n",
              "mfcc16                float64\n",
              "mfcc17                float64\n",
              "mfcc18                float64\n",
              "mfcc19                float64\n",
              "mfcc20                float64\n",
              "number                  int64\n",
              "dtype: object"
            ]
          },
          "metadata": {},
          "execution_count": 7
        }
      ]
    },
    {
      "cell_type": "code",
      "source": [
        "from sklearn.preprocessing import LabelEncoder\n",
        "lb = LabelEncoder()\n",
        "y= lb.fit_transform(trainData['number'])"
      ],
      "metadata": {
        "id": "J-4hJtbqJbC0"
      },
      "execution_count": null,
      "outputs": []
    },
    {
      "cell_type": "code",
      "execution_count": null,
      "metadata": {
        "id": "UEy6oG8RQmnN",
        "outputId": "a976c219-16e6-4ac1-bf9e-aa2d5b765af8",
        "colab": {
          "base_uri": "https://localhost:8080/"
        }
      },
      "outputs": [
        {
          "output_type": "stream",
          "name": "stdout",
          "text": [
            "Y from training data: (415,)\n",
            "Y from validation data: (179,)\n",
            "Y from test data: (6,)\n"
          ]
        }
      ],
      "source": [
        "# Splitting the dataset into training, validation and testing dataset\n",
        "from sklearn.model_selection import train_test_split\n",
        "X = np.array(trainData.iloc[:, :-1], dtype = float)\n",
        "y = trainData.iloc[:, -1]\n",
        "X_train, X_val, y_train, y_val = train_test_split(X, y, test_size=0.3, random_state=42)\n",
        "\n",
        "\n",
        "X_test = np.array(testData.iloc[:, :-1], dtype = float)\n",
        "y_test = testData.iloc[:, -1]\n",
        "\n",
        "print(\"Y from training data:\", y_train.shape)\n",
        "print(\"Y from validation data:\", y_val.shape)\n",
        "print(\"Y from test data:\", y_test.shape)\n"
      ]
    },
    {
      "cell_type": "code",
      "execution_count": null,
      "metadata": {
        "colab": {
          "base_uri": "https://localhost:8080/"
        },
        "id": "S1o-OccqP5Ax",
        "outputId": "85820816-81e4-4574-e719-6f01a8ce4e22"
      },
      "outputs": [
        {
          "output_type": "stream",
          "name": "stdout",
          "text": [
            "X from training data (415, 25)\n",
            "X from validation data (179, 25)\n",
            "X from test data (6, 25)\n"
          ]
        }
      ],
      "source": [
        "#Normalizing the dataset\n",
        "from sklearn.preprocessing import StandardScaler\n",
        "import numpy as np\n",
        "scaler = StandardScaler()\n",
        "X_train = scaler.fit_transform( X_train )\n",
        "X_val = scaler.transform( X_val )\n",
        "X_test = scaler.transform( X_test )\n",
        "\n",
        "print(\"X from training data\", X_train.shape)\n",
        "print(\"X from validation data\", X_val.shape)\n",
        "print(\"X from test data\", X_test.shape)\n"
      ]
    },
    {
      "cell_type": "code",
      "execution_count": null,
      "metadata": {
        "id": "Q06tYXcdQZFp"
      },
      "outputs": [],
      "source": [
        "#Creating a Model\n",
        "from keras import models\n",
        "from keras import layers\n",
        "import keras\n",
        "\n",
        "# model 1\n",
        "model = models.Sequential()\n",
        "model.add(layers.Dense(256, activation='relu', input_shape=(X_train.shape[1],)))\n",
        "model.add(layers.Dropout(0.5))\n",
        "model.add(layers.Dense(128, activation='relu'))\n",
        "model.add(layers.Dropout(0.5))\n",
        "model.add(layers.Dense(64, activation='relu'))\n",
        "model.add(layers.Dropout(0.5))\n",
        "model.add(layers.Dense(14, activation='softmax'))\n",
        "\n",
        "# Learning Process of a model\n",
        "model.compile(optimizer='adam',\n",
        "              loss='sparse_categorical_crossentropy',\n",
        "              metrics=['accuracy'])\n",
        "\n",
        "# simple early stopping\n",
        "from keras.callbacks import EarlyStopping\n",
        "\n",
        "es = EarlyStopping(monitor='val_loss', mode='min', verbose=1)\n",
        "\n"
      ]
    },
    {
      "cell_type": "code",
      "source": [
        "#Train with early stopping to avoid overfitting\n",
        "history = model.fit(X_train,\n",
        "                    y_train,\n",
        "                    validation_data=(X_val, y_val),\n",
        "                    epochs=50,\n",
        "                    batch_size=128, \n",
        "                    callbacks=[es])"
      ],
      "metadata": {
        "colab": {
          "base_uri": "https://localhost:8080/"
        },
        "id": "s2KbujwjIuva",
        "outputId": "c23015c0-9abd-45f2-ea70-4a05363305d4"
      },
      "execution_count": null,
      "outputs": [
        {
          "output_type": "stream",
          "name": "stdout",
          "text": [
            "Epoch 1/50\n",
            "4/4 [==============================] - 1s 89ms/step - loss: 2.6293 - accuracy: 0.1229 - val_loss: 2.0512 - val_accuracy: 0.8715\n",
            "Epoch 2/50\n",
            "4/4 [==============================] - 0s 17ms/step - loss: 2.1501 - accuracy: 0.2940 - val_loss: 1.6639 - val_accuracy: 0.9944\n",
            "Epoch 3/50\n",
            "4/4 [==============================] - 0s 22ms/step - loss: 1.8236 - accuracy: 0.4819 - val_loss: 1.2861 - val_accuracy: 1.0000\n",
            "Epoch 4/50\n",
            "4/4 [==============================] - 0s 21ms/step - loss: 1.5528 - accuracy: 0.5084 - val_loss: 0.9352 - val_accuracy: 1.0000\n",
            "Epoch 5/50\n",
            "4/4 [==============================] - 0s 24ms/step - loss: 1.2987 - accuracy: 0.6361 - val_loss: 0.6344 - val_accuracy: 1.0000\n",
            "Epoch 6/50\n",
            "4/4 [==============================] - 0s 16ms/step - loss: 1.0578 - accuracy: 0.7060 - val_loss: 0.4026 - val_accuracy: 1.0000\n",
            "Epoch 7/50\n",
            "4/4 [==============================] - 0s 21ms/step - loss: 0.8015 - accuracy: 0.7735 - val_loss: 0.2378 - val_accuracy: 1.0000\n",
            "Epoch 8/50\n",
            "4/4 [==============================] - 0s 15ms/step - loss: 0.6757 - accuracy: 0.8289 - val_loss: 0.1357 - val_accuracy: 1.0000\n",
            "Epoch 9/50\n",
            "4/4 [==============================] - 0s 21ms/step - loss: 0.5116 - accuracy: 0.8530 - val_loss: 0.0761 - val_accuracy: 1.0000\n",
            "Epoch 10/50\n",
            "4/4 [==============================] - 0s 16ms/step - loss: 0.4678 - accuracy: 0.8699 - val_loss: 0.0438 - val_accuracy: 1.0000\n",
            "Epoch 11/50\n",
            "4/4 [==============================] - 0s 24ms/step - loss: 0.3549 - accuracy: 0.8988 - val_loss: 0.0263 - val_accuracy: 1.0000\n",
            "Epoch 12/50\n",
            "4/4 [==============================] - 0s 29ms/step - loss: 0.2902 - accuracy: 0.9446 - val_loss: 0.0165 - val_accuracy: 1.0000\n",
            "Epoch 13/50\n",
            "4/4 [==============================] - 0s 20ms/step - loss: 0.2381 - accuracy: 0.9566 - val_loss: 0.0106 - val_accuracy: 1.0000\n",
            "Epoch 14/50\n",
            "4/4 [==============================] - 0s 16ms/step - loss: 0.2391 - accuracy: 0.9398 - val_loss: 0.0071 - val_accuracy: 1.0000\n",
            "Epoch 15/50\n",
            "4/4 [==============================] - 0s 16ms/step - loss: 0.1316 - accuracy: 0.9735 - val_loss: 0.0050 - val_accuracy: 1.0000\n",
            "Epoch 16/50\n",
            "4/4 [==============================] - 0s 17ms/step - loss: 0.1575 - accuracy: 0.9711 - val_loss: 0.0036 - val_accuracy: 1.0000\n",
            "Epoch 17/50\n",
            "4/4 [==============================] - 0s 17ms/step - loss: 0.1385 - accuracy: 0.9590 - val_loss: 0.0027 - val_accuracy: 1.0000\n",
            "Epoch 18/50\n",
            "4/4 [==============================] - 0s 19ms/step - loss: 0.1415 - accuracy: 0.9639 - val_loss: 0.0020 - val_accuracy: 1.0000\n",
            "Epoch 19/50\n",
            "4/4 [==============================] - 0s 16ms/step - loss: 0.0987 - accuracy: 0.9783 - val_loss: 0.0015 - val_accuracy: 1.0000\n",
            "Epoch 20/50\n",
            "4/4 [==============================] - 0s 20ms/step - loss: 0.0960 - accuracy: 0.9735 - val_loss: 0.0012 - val_accuracy: 1.0000\n",
            "Epoch 21/50\n",
            "4/4 [==============================] - 0s 22ms/step - loss: 0.0958 - accuracy: 0.9759 - val_loss: 9.2388e-04 - val_accuracy: 1.0000\n",
            "Epoch 22/50\n",
            "4/4 [==============================] - 0s 15ms/step - loss: 0.0730 - accuracy: 0.9831 - val_loss: 7.5205e-04 - val_accuracy: 1.0000\n",
            "Epoch 23/50\n",
            "4/4 [==============================] - 0s 21ms/step - loss: 0.0649 - accuracy: 0.9831 - val_loss: 6.4059e-04 - val_accuracy: 1.0000\n",
            "Epoch 24/50\n",
            "4/4 [==============================] - 0s 16ms/step - loss: 0.0678 - accuracy: 0.9855 - val_loss: 5.6098e-04 - val_accuracy: 1.0000\n",
            "Epoch 25/50\n",
            "4/4 [==============================] - 0s 21ms/step - loss: 0.0754 - accuracy: 0.9807 - val_loss: 4.9575e-04 - val_accuracy: 1.0000\n",
            "Epoch 26/50\n",
            "4/4 [==============================] - 0s 17ms/step - loss: 0.0829 - accuracy: 0.9783 - val_loss: 4.3645e-04 - val_accuracy: 1.0000\n",
            "Epoch 27/50\n",
            "4/4 [==============================] - 0s 21ms/step - loss: 0.0746 - accuracy: 0.9783 - val_loss: 3.7577e-04 - val_accuracy: 1.0000\n",
            "Epoch 28/50\n",
            "4/4 [==============================] - 0s 16ms/step - loss: 0.0442 - accuracy: 0.9928 - val_loss: 3.2849e-04 - val_accuracy: 1.0000\n",
            "Epoch 29/50\n",
            "4/4 [==============================] - 0s 21ms/step - loss: 0.0545 - accuracy: 0.9880 - val_loss: 2.8801e-04 - val_accuracy: 1.0000\n",
            "Epoch 30/50\n",
            "4/4 [==============================] - 0s 22ms/step - loss: 0.0468 - accuracy: 0.9928 - val_loss: 2.5158e-04 - val_accuracy: 1.0000\n",
            "Epoch 31/50\n",
            "4/4 [==============================] - 0s 16ms/step - loss: 0.0383 - accuracy: 0.9952 - val_loss: 2.1740e-04 - val_accuracy: 1.0000\n",
            "Epoch 32/50\n",
            "4/4 [==============================] - 0s 22ms/step - loss: 0.0519 - accuracy: 0.9855 - val_loss: 1.8382e-04 - val_accuracy: 1.0000\n",
            "Epoch 33/50\n",
            "4/4 [==============================] - 0s 22ms/step - loss: 0.0256 - accuracy: 0.9952 - val_loss: 1.5745e-04 - val_accuracy: 1.0000\n",
            "Epoch 34/50\n",
            "4/4 [==============================] - 0s 15ms/step - loss: 0.0594 - accuracy: 0.9783 - val_loss: 1.4004e-04 - val_accuracy: 1.0000\n",
            "Epoch 35/50\n",
            "4/4 [==============================] - 0s 15ms/step - loss: 0.0456 - accuracy: 0.9904 - val_loss: 1.2435e-04 - val_accuracy: 1.0000\n",
            "Epoch 36/50\n",
            "4/4 [==============================] - 0s 15ms/step - loss: 0.0561 - accuracy: 0.9880 - val_loss: 1.0857e-04 - val_accuracy: 1.0000\n",
            "Epoch 37/50\n",
            "4/4 [==============================] - 0s 15ms/step - loss: 0.0411 - accuracy: 0.9928 - val_loss: 9.5217e-05 - val_accuracy: 1.0000\n",
            "Epoch 38/50\n",
            "4/4 [==============================] - 0s 15ms/step - loss: 0.0316 - accuracy: 0.9928 - val_loss: 8.2823e-05 - val_accuracy: 1.0000\n",
            "Epoch 39/50\n",
            "4/4 [==============================] - 0s 20ms/step - loss: 0.0527 - accuracy: 0.9880 - val_loss: 7.7516e-05 - val_accuracy: 1.0000\n",
            "Epoch 40/50\n",
            "4/4 [==============================] - 0s 25ms/step - loss: 0.0362 - accuracy: 0.9904 - val_loss: 7.2737e-05 - val_accuracy: 1.0000\n",
            "Epoch 41/50\n",
            "4/4 [==============================] - 0s 16ms/step - loss: 0.0255 - accuracy: 0.9976 - val_loss: 6.5806e-05 - val_accuracy: 1.0000\n",
            "Epoch 42/50\n",
            "4/4 [==============================] - 0s 21ms/step - loss: 0.0239 - accuracy: 1.0000 - val_loss: 5.8439e-05 - val_accuracy: 1.0000\n",
            "Epoch 43/50\n",
            "4/4 [==============================] - 0s 21ms/step - loss: 0.0263 - accuracy: 0.9976 - val_loss: 5.1992e-05 - val_accuracy: 1.0000\n",
            "Epoch 44/50\n",
            "4/4 [==============================] - 0s 15ms/step - loss: 0.0234 - accuracy: 0.9928 - val_loss: 4.6933e-05 - val_accuracy: 1.0000\n",
            "Epoch 45/50\n",
            "4/4 [==============================] - 0s 15ms/step - loss: 0.0205 - accuracy: 0.9952 - val_loss: 4.2454e-05 - val_accuracy: 1.0000\n",
            "Epoch 46/50\n",
            "4/4 [==============================] - 0s 15ms/step - loss: 0.0142 - accuracy: 1.0000 - val_loss: 3.8054e-05 - val_accuracy: 1.0000\n",
            "Epoch 47/50\n",
            "4/4 [==============================] - 0s 20ms/step - loss: 0.0218 - accuracy: 0.9976 - val_loss: 3.3852e-05 - val_accuracy: 1.0000\n",
            "Epoch 48/50\n",
            "4/4 [==============================] - 0s 15ms/step - loss: 0.0390 - accuracy: 0.9855 - val_loss: 3.0936e-05 - val_accuracy: 1.0000\n",
            "Epoch 49/50\n",
            "4/4 [==============================] - 0s 15ms/step - loss: 0.0182 - accuracy: 0.9928 - val_loss: 2.8299e-05 - val_accuracy: 1.0000\n",
            "Epoch 50/50\n",
            "4/4 [==============================] - 0s 21ms/step - loss: 0.0137 - accuracy: 1.0000 - val_loss: 2.5964e-05 - val_accuracy: 1.0000\n"
          ]
        }
      ]
    },
    {
      "cell_type": "code",
      "execution_count": null,
      "metadata": {
        "colab": {
          "base_uri": "https://localhost:8080/",
          "height": 430
        },
        "id": "z3nvtYKVa5HD",
        "outputId": "68d5f180-8aac-4e35-ff81-fc04ce0474eb"
      },
      "outputs": [
        {
          "output_type": "display_data",
          "data": {
            "text/plain": [
              "<Figure size 640x480 with 1 Axes>"
            ],
            "image/png": "[encoded data removed]"
          },
          "metadata": {}
        }
      ],
      "source": [
        "# plot training history\n",
        "from matplotlib import pyplot\n",
        "pyplot.plot(history.history['loss'], label='train')\n",
        "pyplot.plot(history.history['val_loss'], label='test')\n",
        "pyplot.legend()\n",
        "pyplot.show()"
      ]
    },
    {
      "cell_type": "markdown",
      "metadata": {
        "id": "Q8-xglFa7pHe"
      },
      "source": [
        "### Auxiliary functions to show the results\n"
      ]
    },
    {
      "cell_type": "code",
      "execution_count": 88,
      "metadata": {
        "id": "38bZPV9U7pHe"
      },
      "outputs": [],
      "source": [
        "def getSpeaker(speaker):\n",
        "    # speaker = str(speaker)\n",
        "    if (speaker == 0).all():\n",
        "        return \"kunal\"\n",
        "    elif (speaker == 1).all():\n",
        "        return \"aman\"\n",
        "    elif (speaker == 2).all():\n",
        "        return \"tim\"\n",
        "    elif (speaker == 3).all():\n",
        "        return \"thapa\"\n",
        "    elif (speaker == 4).all():\n",
        "        return \"codepure\"\n",
        "    elif (speaker == 5).all():\n",
        "        return \"shradha\"\n",
        "    elif (speaker == 6).all():\n",
        "        return \"techchip\"\n",
        "    elif (speaker == 7).all():\n",
        "        return \"5_min_engg\"\n",
        "    elif (speaker == 8).all():\n",
        "        return \"durgesh\"\n",
        "    elif (speaker == 9).all():\n",
        "        return \"krish_naik\"\n",
        "    elif (speaker == 10).all():\n",
        "        return \"cwh\"\n",
        "    elif (speaker == 11).all():\n",
        "        return \"anuj\"\n",
        "    else: \n",
        "        speaker = \"Unknown\"\n",
        "        \n",
        "def printPrediction(X_data, y_data, printDigit):\n",
        "    print('\\n# Generate predictions')\n",
        "    for i in range(len(y_data)):\n",
        "        # prediction = getSpeaker(model.predict_classes(X_data[i:i+1])[0])\n",
        "        prediction = getSpeaker(np.argmax(model.predict(X_data[i:i+1]), axis=-1))\n",
        "        # prediction = getSpeaker((model.predict(X_data[i:i+1]) > 0.5).astype(\"int32\"))\n",
        "        \n",
        "        speaker = getSpeaker(y_data[i])\n",
        "        # print(speaker,prediction)\n",
        "        if printDigit == True:\n",
        "            print('Number={0:d}, y={1:10s}- prediction={2:10s}- match={3}' .format(i, speaker, prediction, speaker==prediction))\n",
        "        else:\n",
        "            print('y={0:10s}- prediction={1:10s}- match={2}'.format(speaker, prediction, speaker==prediction))\n",
        "            # y = '{0:10s}- prediction={1:10s}- match={2}'.format(speaker, prediction, speaker==prediction)\n"
      ]
    },
    {
      "cell_type": "code",
      "execution_count": 78,
      "metadata": {
        "id": "oEuwIsL-7pHf"
      },
      "outputs": [],
      "source": [
        "import numpy as np\n",
        "from keras import backend as K\n",
        "from keras.models import Sequential\n",
        "from keras.layers.core import Dense, Dropout, Activation, Flatten\n",
        "from keras.layers.convolutional import Convolution2D, MaxPooling2D\n",
        "from keras.preprocessing.image import ImageDataGenerator\n",
        "from sklearn.metrics import classification_report, confusion_matrix\n",
        "\n",
        "def report(X_data, y_data):\n",
        "    #Confution Matrix and Classification Report\n",
        "    # Y_pred = model.predict_classes(X_data)\n",
        "    Y_pred = np.argmax(model.predict(X_data), axis=-1)\n",
        "    y_test_num = y_data.astype(np.int64)\n",
        "    conf_mt = confusion_matrix(y_test_num, Y_pred)\n",
        "    print(conf_mt)\n",
        "    plt.matshow(conf_mt)\n",
        "    plt.show()\n",
        "    print('\\nClassification Report')\n",
        "    target_names = [\"5_min_engg\", \"aman\", \"anuj\", \"codepure\", \"cwh\", \"shradha\", \"Unknown\"]\n",
        "    print(classification_report(y_test_num, Y_pred))\n"
      ]
    },
    {
      "cell_type": "code",
      "execution_count": null,
      "metadata": {
        "id": "PxM1x1QR7pHg"
      },
      "outputs": [],
      "source": []
    },
    {
      "cell_type": "markdown",
      "metadata": {
        "id": "-cBrrUPo7pHh"
      },
      "source": [
        "### Present the model performance"
      ]
    },
    {
      "cell_type": "code",
      "source": [
        "print(X_test[0:10])\n",
        "y12=y_test[0:10]\n",
        "print(y12)\n",
        "# y12[2]"
      ],
      "metadata": {
        "colab": {
          "base_uri": "https://localhost:8080/"
        },
        "id": "6KkskK23wSQo",
        "outputId": "8205dfe9-a511-4a1b-e3b7-cf491ec42090"
      },
      "execution_count": null,
      "outputs": [
        {
          "output_type": "stream",
          "name": "stdout",
          "text": [
            "[[-1.38541168  0.1929998   0.19377423  0.3020594  -0.34446257 -1.67727664\n",
            "  -0.34976036 -1.01642692 -0.39152358 -0.38932056 -1.19492281 -1.02885933\n",
            "  -0.14165802 -1.23320175  0.27608376 -0.91776846 -0.74138604 -0.88163025\n",
            "  -1.01834567  1.30714463 -1.79361205 -0.51385237 -0.95014578 -0.50875333\n",
            "  -0.31968103]\n",
            " [-0.72013587  0.38045696  1.54045918  0.35124128 -0.27128323 -0.29233769\n",
            "  -0.5589013   1.95605096 -0.54049407  0.7983433   1.3172201   1.31148187\n",
            "   1.34208737  0.00822181  0.73655096  1.0327014   1.28354878 -0.17713967\n",
            "   1.02298488 -0.46944338  0.52470179  1.03536361  1.602792   -0.0228931\n",
            "   1.4161949 ]\n",
            " [ 1.67693095 -0.42909571 -0.56537164 -0.33473922 -0.30381768  1.84082213\n",
            "   0.95371425 -1.25805401  0.90387734 -0.74361273  0.81464394 -1.41027908\n",
            "   1.56840572 -0.63004554  0.63720191  1.48973999 -1.16259409  1.34895902\n",
            "  -0.37961013  1.75260472 -0.67068762  0.7042085  -0.96733154  0.61440375\n",
            "   0.56125495]\n",
            " [ 0.13666238 -0.80681499 -0.66216697 -0.87078771 -0.57308333  0.14083705\n",
            "   0.78482455 -0.16173731 -0.98670535 -1.35141916  0.1646213  -1.01877057\n",
            "  -0.83399086  1.25027552 -1.13932398 -0.29417968 -1.17659279 -0.36924386\n",
            "  -0.16568274 -0.13816327 -0.74829042 -1.41925517 -0.18130055 -1.58712891\n",
            "  -0.8747228 ]\n",
            " [-0.4532311  -0.47234892 -0.27065311 -0.32446036 -0.14146728 -0.76382664\n",
            "   0.32517725  0.40530229  1.68145987  1.92037437  0.17181626  1.15991601\n",
            "  -0.07222437  0.8593713   0.48233555 -0.57618605  0.28881271  0.23711617\n",
            "  -0.41622265  0.19725541  1.25782253 -0.284005   -0.2780109   1.33439541\n",
            "  -0.43011591]\n",
            " [ 0.41175388  0.97947784  0.51921395  0.99808005  1.15063411  0.64301912\n",
            "  -0.9619848  -0.08976249  0.86281539 -0.31016432 -1.06855353  0.33775762\n",
            "  -1.03664302  0.09499652  0.35443712 -0.79409583  1.2397242  -1.01394248\n",
            "   1.84319906 -0.97724977 -0.48805666  1.45391258  0.20963199  0.17418212\n",
            "   1.42025241]]\n",
            "0     1\n",
            "1    10\n",
            "2     7\n",
            "3    11\n",
            "4     4\n",
            "5     5\n",
            "Name: number, dtype: int64\n"
          ]
        }
      ]
    },
    {
      "cell_type": "code",
      "execution_count": 76,
      "metadata": {
        "colab": {
          "base_uri": "https://localhost:8080/"
        },
        "id": "HSVxu84pRgZa",
        "outputId": "b768130f-c7e6-4bfe-9241-800fce3637e1"
      },
      "outputs": [
        {
          "output_type": "stream",
          "name": "stdout",
          "text": [
            "\n",
            "# TEST DATA #\n",
            "\n",
            "1/1 [==============================] - 0s 29ms/step - loss: 1650.4144 - accuracy: 0.1667\n",
            "accuracy: 16.67%\n",
            "\n",
            "# Generate predictions\n",
            "1/1 [==============================] - 0s 21ms/step\n",
            "y=aman      - prediction=cwh       - match=False\n",
            "1/1 [==============================] - 0s 21ms/step\n",
            "y=cwh       - prediction=cwh       - match=True\n",
            "1/1 [==============================] - 0s 25ms/step\n",
            "y=5_min_engg- prediction=cwh       - match=False\n",
            "1/1 [==============================] - 0s 25ms/step\n",
            "y=anuj      - prediction=cwh       - match=False\n",
            "1/1 [==============================] - 0s 26ms/step\n",
            "y=codepure  - prediction=cwh       - match=False\n",
            "1/1 [==============================] - 0s 38ms/step\n",
            "y=shradha   - prediction=cwh       - match=False\n"
          ]
        }
      ],
      "source": [
        "print('\\n# TEST DATA #\\n')\n",
        "score = model.evaluate(X_test, y_test)\n",
        "print(\"%s: %.2f%%\" % (model.metrics_names[1], score[1]*100))\n",
        "\n",
        "# Prediction\n",
        "printPrediction(X_test[0:10], y_test[0:10], False)"
      ]
    },
    {
      "cell_type": "code",
      "execution_count": 79,
      "metadata": {
        "id": "k-T4Ey1y7pHi",
        "outputId": "d120b573-dea5-47f3-e72e-5f7decabcd62",
        "colab": {
          "base_uri": "https://localhost:8080/",
          "height": 978
        }
      },
      "outputs": [
        {
          "output_type": "stream",
          "name": "stdout",
          "text": [
            "Classification Report for Test Data\n",
            "\n",
            "1/1 [==============================] - 0s 31ms/step\n",
            "[[0 0 0 0 1 0]\n",
            " [0 0 0 0 1 0]\n",
            " [0 0 0 0 1 0]\n",
            " [0 0 0 0 1 0]\n",
            " [0 0 0 0 1 0]\n",
            " [0 0 0 0 1 0]]\n"
          ]
        },
        {
          "output_type": "display_data",
          "data": {
            "text/plain": [
              "<Figure size 480x480 with 1 Axes>"
            ],
            "image/png": "[encoded data removed]"
          },
          "metadata": {}
        },
        {
          "output_type": "stream",
          "name": "stdout",
          "text": [
            "\n",
            "Classification Report\n",
            "              precision    recall  f1-score   support\n",
            "\n",
            "           1       0.00      0.00      0.00         1\n",
            "           4       0.00      0.00      0.00         1\n",
            "           5       0.00      0.00      0.00         1\n",
            "           7       0.00      0.00      0.00         1\n",
            "          10       0.17      1.00      0.29         1\n",
            "          11       0.00      0.00      0.00         1\n",
            "\n",
            "    accuracy                           0.17         6\n",
            "   macro avg       0.03      0.17      0.05         6\n",
            "weighted avg       0.03      0.17      0.05         6\n",
            "\n"
          ]
        },
        {
          "output_type": "stream",
          "name": "stderr",
          "text": [
            "/usr/local/lib/python3.9/dist-packages/sklearn/metrics/_classification.py:1344: UndefinedMetricWarning: Precision and F-score are ill-defined and being set to 0.0 in labels with no predicted samples. Use `zero_division` parameter to control this behavior.\n",
            "  _warn_prf(average, modifier, msg_start, len(result))\n",
            "/usr/local/lib/python3.9/dist-packages/sklearn/metrics/_classification.py:1344: UndefinedMetricWarning: Precision and F-score are ill-defined and being set to 0.0 in labels with no predicted samples. Use `zero_division` parameter to control this behavior.\n",
            "  _warn_prf(average, modifier, msg_start, len(result))\n",
            "/usr/local/lib/python3.9/dist-packages/sklearn/metrics/_classification.py:1344: UndefinedMetricWarning: Precision and F-score are ill-defined and being set to 0.0 in labels with no predicted samples. Use `zero_division` parameter to control this behavior.\n",
            "  _warn_prf(average, modifier, msg_start, len(result))\n"
          ]
        }
      ],
      "source": [
        "print(\"Classification Report for Test Data\\n\")\n",
        "report(X_test, y_test)\n"
      ]
    },
    {
      "cell_type": "code",
      "execution_count": null,
      "metadata": {
        "id": "89XCCI7A7pHj"
      },
      "outputs": [],
      "source": []
    },
    {
      "cell_type": "markdown",
      "metadata": {
        "id": "Q_8WOaGJ7pHj"
      },
      "source": [
        "## Section 3\n",
        "\n",
        "There are 50 recordings for each digit for each speaker: Jackson, Nicolas and Theo (total 1500 recordings)\n",
        "Training data has 49 recordings for each digit for each speaker: 1470 recordings total.\n",
        "Test data has 1 recordings for each digit for each speaker: 30 recordings total.\n",
        "\n",
        "In addition, there are 2 recordings for each digit for each speaker: Ankur, Caroline and Rodolfo (total 60 recordings)\n",
        "This addition training data has 1 recordings for each digit for each speaker: 30 recordings total.\n",
        "This addition test data has 1 recordings for each digit for each speaker: 30 recordings total.\n",
        "\n",
        "Therefore the full data set has:\n",
        "* Training: 1500 recordings\n",
        "* Training: 60 recordings\n",
        "\n",
        "The data used here comes from the recordings stored in:\n",
        "* ../data/recordings/train\n",
        "* ../data/recordings/test\n",
        "* ../data/recordings/moreSpeakersTrain\n",
        "* ../data/recordings/moreSpeakersTest"
      ]
    },
    {
      "cell_type": "code",
      "execution_count": null,
      "metadata": {
        "id": "9s_XfmJu7pHk"
      },
      "outputs": [],
      "source": []
    },
    {
      "cell_type": "code",
      "execution_count": 80,
      "metadata": {
        "id": "WXfINHUw7pHk",
        "outputId": "5643690e-1616-4fb5-d732-d4d0c35eee66",
        "colab": {
          "base_uri": "https://localhost:8080/"
        }
      },
      "outputs": [
        {
          "output_type": "stream",
          "name": "stdout",
          "text": [
            "Y from training data: (828,)\n",
            "Y from validation data: (355,)\n",
            "Y from test data: (6,)\n",
            "Y from other speakers test data: (12,)\n"
          ]
        },
        {
          "output_type": "stream",
          "name": "stderr",
          "text": [
            "<ipython-input-80-3dec2f3d1234>:4: FutureWarning: The frame.append method is deprecated and will be removed from pandas in a future version. Use pandas.concat instead.\n",
            "  fullTrainData = trainData.append(moreTrainData)\n"
          ]
        }
      ],
      "source": [
        "# Splitting the dataset into training, validation and testing dataset\n",
        "from sklearn.model_selection import train_test_split\n",
        "\n",
        "fullTrainData = trainData.append(moreTrainData)\n",
        "\n",
        "X = np.array(fullTrainData.iloc[:, :-1], dtype = float)\n",
        "y = fullTrainData.iloc[:, -1]\n",
        "X_train, X_val, y_train, y_val = train_test_split(X, y, test_size=0.3, random_state=42)\n",
        "\n",
        "X_test = np.array(testData.iloc[:, :-1], dtype = float)\n",
        "y_test = testData.iloc[:, -1]\n",
        "\n",
        "X_more_test = np.array(moreTestData.iloc[:, :-1], dtype = float)\n",
        "y_more_test = moreTestData.iloc[:, -1]\n",
        "\n",
        "print(\"Y from training data:\", y_train.shape)\n",
        "print(\"Y from validation data:\", y_val.shape)\n",
        "print(\"Y from test data:\", y_test.shape)\n",
        "print(\"Y from other speakers test data:\", y_more_test.shape)\n"
      ]
    },
    {
      "cell_type": "code",
      "execution_count": 81,
      "metadata": {
        "id": "I-dbpuxe7pHl",
        "outputId": "e35292cf-42f0-44af-fe6b-98a8b6bd0a60",
        "colab": {
          "base_uri": "https://localhost:8080/"
        }
      },
      "outputs": [
        {
          "output_type": "stream",
          "name": "stdout",
          "text": [
            "X from training data (828, 25)\n",
            "X from validation data (355, 25)\n",
            "X from test data (6, 25)\n",
            "X from other speakers test data (12, 25)\n"
          ]
        }
      ],
      "source": [
        "#Normalizing the dataset\n",
        "from sklearn.preprocessing import StandardScaler\n",
        "import numpy as np\n",
        "scaler = StandardScaler()\n",
        "X_train = scaler.fit_transform( X_train )\n",
        "X_val = scaler.transform( X_val )\n",
        "X_test = scaler.transform( X_test )\n",
        "X_more_test = scaler.transform( X_more_test )\n",
        "\n",
        "print(\"X from training data\", X_train.shape)\n",
        "print(\"X from validation data\", X_val.shape)\n",
        "print(\"X from test data\", X_test.shape)\n",
        "print(\"X from other speakers test data\", X_more_test.shape)\n"
      ]
    },
    {
      "cell_type": "code",
      "execution_count": 83,
      "metadata": {
        "id": "GXoJAdvB7pHl",
        "outputId": "878458f4-39ea-4d24-954e-9a35440fdb23",
        "colab": {
          "base_uri": "https://localhost:8080/"
        }
      },
      "outputs": [
        {
          "output_type": "stream",
          "name": "stdout",
          "text": [
            "Epoch 1/50\n",
            "7/7 [==============================] - 2s 59ms/step - loss: 2.6563 - accuracy: 0.1075 - val_loss: 2.2300 - val_accuracy: 0.6479\n",
            "Epoch 2/50\n",
            "7/7 [==============================] - 0s 20ms/step - loss: 2.3203 - accuracy: 0.2536 - val_loss: 1.9626 - val_accuracy: 0.7352\n",
            "Epoch 3/50\n",
            "7/7 [==============================] - 0s 23ms/step - loss: 2.0625 - accuracy: 0.3249 - val_loss: 1.6436 - val_accuracy: 0.7831\n",
            "Epoch 4/50\n",
            "7/7 [==============================] - 0s 16ms/step - loss: 1.8125 - accuracy: 0.4312 - val_loss: 1.2748 - val_accuracy: 0.8310\n",
            "Epoch 5/50\n",
            "7/7 [==============================] - 0s 18ms/step - loss: 1.5498 - accuracy: 0.5399 - val_loss: 0.9083 - val_accuracy: 0.9099\n",
            "Epoch 6/50\n",
            "7/7 [==============================] - 0s 22ms/step - loss: 1.3069 - accuracy: 0.5954 - val_loss: 0.6184 - val_accuracy: 0.9521\n",
            "Epoch 7/50\n",
            "7/7 [==============================] - 0s 19ms/step - loss: 1.0456 - accuracy: 0.6727 - val_loss: 0.4028 - val_accuracy: 0.9803\n",
            "Epoch 8/50\n",
            "7/7 [==============================] - 0s 18ms/step - loss: 0.9118 - accuracy: 0.7065 - val_loss: 0.2592 - val_accuracy: 0.9944\n",
            "Epoch 9/50\n",
            "7/7 [==============================] - 0s 21ms/step - loss: 0.7472 - accuracy: 0.7742 - val_loss: 0.1664 - val_accuracy: 0.9944\n",
            "Epoch 10/50\n",
            "7/7 [==============================] - 0s 18ms/step - loss: 0.6584 - accuracy: 0.7971 - val_loss: 0.1051 - val_accuracy: 0.9972\n",
            "Epoch 11/50\n",
            "7/7 [==============================] - 0s 15ms/step - loss: 0.5486 - accuracy: 0.8285 - val_loss: 0.0661 - val_accuracy: 0.9972\n",
            "Epoch 12/50\n",
            "7/7 [==============================] - 0s 17ms/step - loss: 0.4608 - accuracy: 0.8877 - val_loss: 0.0441 - val_accuracy: 0.9972\n",
            "Epoch 13/50\n",
            "7/7 [==============================] - 0s 19ms/step - loss: 0.4101 - accuracy: 0.8708 - val_loss: 0.0295 - val_accuracy: 0.9972\n",
            "Epoch 14/50\n",
            "7/7 [==============================] - 0s 21ms/step - loss: 0.3587 - accuracy: 0.8937 - val_loss: 0.0237 - val_accuracy: 0.9972\n",
            "Epoch 15/50\n",
            "7/7 [==============================] - 0s 16ms/step - loss: 0.2814 - accuracy: 0.9227 - val_loss: 0.0186 - val_accuracy: 0.9972\n",
            "Epoch 16/50\n",
            "7/7 [==============================] - 0s 19ms/step - loss: 0.2687 - accuracy: 0.9263 - val_loss: 0.0140 - val_accuracy: 0.9972\n",
            "Epoch 17/50\n",
            "7/7 [==============================] - 0s 19ms/step - loss: 0.2183 - accuracy: 0.9420 - val_loss: 0.0120 - val_accuracy: 0.9972\n",
            "Epoch 18/50\n",
            "7/7 [==============================] - 0s 19ms/step - loss: 0.2270 - accuracy: 0.9396 - val_loss: 0.0106 - val_accuracy: 0.9972\n",
            "Epoch 19/50\n",
            "7/7 [==============================] - 0s 19ms/step - loss: 0.1979 - accuracy: 0.9432 - val_loss: 0.0084 - val_accuracy: 0.9972\n",
            "Epoch 20/50\n",
            "7/7 [==============================] - 0s 19ms/step - loss: 0.1804 - accuracy: 0.9541 - val_loss: 0.0088 - val_accuracy: 0.9972\n",
            "Epoch 20: early stopping\n"
          ]
        }
      ],
      "source": [
        "#Creating a Model\n",
        "from keras import models\n",
        "from keras import layers\n",
        "import keras\n",
        "\n",
        "# model 1\n",
        "model = models.Sequential()\n",
        "model.add(layers.Dense(256, activation='relu', input_shape=(X_train.shape[1],)))\n",
        "model.add(layers.Dropout(0.5))\n",
        "model.add(layers.Dense(128, activation='relu'))\n",
        "model.add(layers.Dropout(0.5))\n",
        "model.add(layers.Dense(64, activation='relu'))\n",
        "model.add(layers.Dropout(0.5))\n",
        "model.add(layers.Dense(14, activation='softmax'))\n",
        "\n",
        "# Learning Process of a model\n",
        "model.compile(optimizer='adam',\n",
        "              loss='sparse_categorical_crossentropy',\n",
        "              metrics=['accuracy'])\n",
        "\n",
        "# simple early stopping\n",
        "from keras.callbacks import EarlyStopping\n",
        "\n",
        "es = EarlyStopping(monitor='val_loss', mode='min', verbose=1)\n",
        "\n",
        "#Train with early stopping to avoid overfitting\n",
        "history = model.fit(X_train,\n",
        "                    y_train,\n",
        "                    validation_data=(X_val, y_val),\n",
        "                    epochs=50,\n",
        "                    batch_size=128, \n",
        "                    callbacks=[es])"
      ]
    },
    {
      "cell_type": "code",
      "execution_count": 84,
      "metadata": {
        "id": "TDqEcTRf7pHm",
        "outputId": "a8b5c835-ae1a-46a6-c254-5b8fa5bf6812",
        "colab": {
          "base_uri": "https://localhost:8080/",
          "height": 430
        }
      },
      "outputs": [
        {
          "output_type": "display_data",
          "data": {
            "text/plain": [
              "<Figure size 640x480 with 1 Axes>"
            ],
            "image/png": "[encoded data removed]"
          },
          "metadata": {}
        }
      ],
      "source": [
        "# plot training history\n",
        "from matplotlib import pyplot\n",
        "pyplot.plot(history.history['loss'], label='train')\n",
        "pyplot.plot(history.history['val_loss'], label='test')\n",
        "pyplot.legend()\n",
        "pyplot.show()"
      ]
    },
    {
      "cell_type": "markdown",
      "metadata": {
        "id": "sX1649NT7pHm"
      },
      "source": [
        "### Present the model performance"
      ]
    },
    {
      "cell_type": "code",
      "execution_count": 85,
      "metadata": {
        "id": "PxGFt96B7pHn",
        "outputId": "4ae8e3f4-3cbc-43e1-a62b-9052eea9880c",
        "colab": {
          "base_uri": "https://localhost:8080/"
        }
      },
      "outputs": [
        {
          "output_type": "stream",
          "name": "stdout",
          "text": [
            "\n",
            "# TEST DATA #\n",
            "\n",
            "1/1 [==============================] - 0s 44ms/step - loss: 7.4036e-04 - accuracy: 1.0000\n",
            "accuracy: 100.00%\n",
            "\n",
            "# Generate predictions\n",
            "1/1 [==============================] - 0s 98ms/step\n",
            "y=aman      - prediction=aman      - match=True\n",
            "1/1 [==============================] - 0s 39ms/step\n",
            "y=cwh       - prediction=cwh       - match=True\n",
            "1/1 [==============================] - 0s 41ms/step\n",
            "y=5_min_engg- prediction=5_min_engg- match=True\n",
            "1/1 [==============================] - 0s 33ms/step\n",
            "y=anuj      - prediction=anuj      - match=True\n",
            "1/1 [==============================] - 0s 40ms/step\n",
            "y=codepure  - prediction=codepure  - match=True\n",
            "1/1 [==============================] - 0s 32ms/step\n",
            "y=shradha   - prediction=shradha   - match=True\n"
          ]
        }
      ],
      "source": [
        "print('\\n# TEST DATA #\\n')\n",
        "score = model.evaluate(X_test, y_test)\n",
        "print(\"%s: %.2f%%\" % (model.metrics_names[1], score[1]*100))\n",
        "\n",
        "# Prediction\n",
        "printPrediction(X_test[0:10], y_test[0:10], False)"
      ]
    },
    {
      "cell_type": "code",
      "execution_count": 89,
      "metadata": {
        "id": "d_WM0uiL7pHn",
        "outputId": "77dad22c-8e59-48c4-f7f6-a504e47dd33d",
        "colab": {
          "base_uri": "https://localhost:8080/"
        }
      },
      "outputs": [
        {
          "output_type": "stream",
          "name": "stdout",
          "text": [
            "\n",
            "# OTHER SPEAKERS DATA #\n",
            "\n",
            "1/1 [==============================] - 0s 29ms/step - loss: 0.0014 - accuracy: 1.0000\n",
            "accuracy: 100.00%\n",
            "\n",
            "# Generate predictions\n",
            "1/1 [==============================] - 0s 20ms/step\n",
            "y=aman      - prediction=aman      - match=True\n",
            "1/1 [==============================] - 0s 20ms/step\n",
            "y=cwh       - prediction=cwh       - match=True\n",
            "1/1 [==============================] - 0s 22ms/step\n",
            "y=5_min_engg- prediction=5_min_engg- match=True\n",
            "1/1 [==============================] - 0s 26ms/step\n",
            "y=anuj      - prediction=anuj      - match=True\n",
            "1/1 [==============================] - 0s 40ms/step\n",
            "y=codepure  - prediction=codepure  - match=True\n",
            "1/1 [==============================] - 0s 32ms/step\n",
            "y=shradha   - prediction=shradha   - match=True\n",
            "1/1 [==============================] - 0s 41ms/step\n",
            "y=durgesh   - prediction=durgesh   - match=True\n",
            "1/1 [==============================] - 0s 47ms/step\n",
            "y=krish_naik- prediction=krish_naik- match=True\n",
            "1/1 [==============================] - 0s 47ms/step\n",
            "y=kunal     - prediction=kunal     - match=True\n",
            "1/1 [==============================] - 0s 34ms/step\n",
            "y=tim       - prediction=tim       - match=True\n"
          ]
        }
      ],
      "source": [
        "print('\\n# OTHER SPEAKERS DATA #\\n')\n",
        "score = model.evaluate(X_more_test, y_more_test)\n",
        "print(\"%s: %.2f%%\" % (model.metrics_names[1], score[1]*100))\n",
        "\n",
        "# Prediction\n",
        "printPrediction(X_more_test[0:10], y_more_test[0:10], False)\n"
      ]
    },
    {
      "cell_type": "code",
      "execution_count": 87,
      "metadata": {
        "id": "vjUk0bnf7pHo",
        "outputId": "9cd2aae8-6f9c-4e0e-9f61-b076ca21f896",
        "colab": {
          "base_uri": "https://localhost:8080/",
          "height": 1000
        }
      },
      "outputs": [
        {
          "output_type": "stream",
          "name": "stdout",
          "text": [
            "Classification Report for Test Data\n",
            "\n",
            "1/1 [==============================] - 0s 22ms/step\n",
            "[[1 0 0 0 0 0]\n",
            " [0 1 0 0 0 0]\n",
            " [0 0 1 0 0 0]\n",
            " [0 0 0 1 0 0]\n",
            " [0 0 0 0 1 0]\n",
            " [0 0 0 0 0 1]]\n"
          ]
        },
        {
          "output_type": "display_data",
          "data": {
            "text/plain": [
              "<Figure size 480x480 with 1 Axes>"
            ],
            "image/png": "[encoded data removed]"
          },
          "metadata": {}
        },
        {
          "output_type": "stream",
          "name": "stdout",
          "text": [
            "\n",
            "Classification Report\n",
            "              precision    recall  f1-score   support\n",
            "\n",
            "           1       1.00      1.00      1.00         1\n",
            "           4       1.00      1.00      1.00         1\n",
            "           5       1.00      1.00      1.00         1\n",
            "           7       1.00      1.00      1.00         1\n",
            "          10       1.00      1.00      1.00         1\n",
            "          11       1.00      1.00      1.00         1\n",
            "\n",
            "    accuracy                           1.00         6\n",
            "   macro avg       1.00      1.00      1.00         6\n",
            "weighted avg       1.00      1.00      1.00         6\n",
            "\n",
            "Classification Report for Other Speakers\n",
            "\n",
            "1/1 [==============================] - 0s 24ms/step\n",
            "[[1 0 0 0 0 0 0 0 0 0 0 0]\n",
            " [0 1 0 0 0 0 0 0 0 0 0 0]\n",
            " [0 0 1 0 0 0 0 0 0 0 0 0]\n",
            " [0 0 0 1 0 0 0 0 0 0 0 0]\n",
            " [0 0 0 0 1 0 0 0 0 0 0 0]\n",
            " [0 0 0 0 0 1 0 0 0 0 0 0]\n",
            " [0 0 0 0 0 0 1 0 0 0 0 0]\n",
            " [0 0 0 0 0 0 0 1 0 0 0 0]\n",
            " [0 0 0 0 0 0 0 0 1 0 0 0]\n",
            " [0 0 0 0 0 0 0 0 0 1 0 0]\n",
            " [0 0 0 0 0 0 0 0 0 0 1 0]\n",
            " [0 0 0 0 0 0 0 0 0 0 0 1]]\n"
          ]
        },
        {
          "output_type": "display_data",
          "data": {
            "text/plain": [
              "<Figure size 480x480 with 1 Axes>"
            ],
            "image/png": "[encoded data removed]"
          },
          "metadata": {}
        },
        {
          "output_type": "stream",
          "name": "stdout",
          "text": [
            "\n",
            "Classification Report\n",
            "              precision    recall  f1-score   support\n",
            "\n",
            "           0       1.00      1.00      1.00         1\n",
            "           1       1.00      1.00      1.00         1\n",
            "           2       1.00      1.00      1.00         1\n",
            "           3       1.00      1.00      1.00         1\n",
            "           4       1.00      1.00      1.00         1\n",
            "           5       1.00      1.00      1.00         1\n",
            "           6       1.00      1.00      1.00         1\n",
            "           7       1.00      1.00      1.00         1\n",
            "           8       1.00      1.00      1.00         1\n",
            "           9       1.00      1.00      1.00         1\n",
            "          10       1.00      1.00      1.00         1\n",
            "          11       1.00      1.00      1.00         1\n",
            "\n",
            "    accuracy                           1.00        12\n",
            "   macro avg       1.00      1.00      1.00        12\n",
            "weighted avg       1.00      1.00      1.00        12\n",
            "\n"
          ]
        }
      ],
      "source": [
        "print(\"Classification Report for Test Data\\n\")\n",
        "report(X_test, y_test)\n",
        "\n",
        "print(\"Classification Report for Other Speakers\\n\")\n",
        "report(X_more_test, y_more_test)\n"
      ]
    },
    {
      "cell_type": "code",
      "execution_count": null,
      "metadata": {
        "id": "oZCYbEI-7pHo"
      },
      "outputs": [],
      "source": []
    }
  ],
  "metadata": {
    "colab": {
      "provenance": [],
      "include_colab_link": true
    },
    "kernelspec": {
      "display_name": "Python 3",
      "language": "python",
      "name": "python3"
    },
    "language_info": {
      "codemirror_mode": {
        "name": "ipython",
        "version": 3
      },
      "file_extension": ".py",
      "mimetype": "text/x-python",
      "name": "python",
      "nbconvert_exporter": "python",
      "pygments_lexer": "ipython3",
      "version": "3.6.8"
    },
    "gpuClass": "standard"
  },
  "nbformat": 4,
  "nbformat_minor": 0
}